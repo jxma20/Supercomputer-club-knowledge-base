{
 "cells": [
  {
   "cell_type": "code",
   "execution_count": 2,
   "id": "5de14c91",
   "metadata": {},
   "outputs": [],
   "source": [
    "import torch\n",
    "from functools import partial\n",
    "from torch import nn\n",
    "from timm.models.layers.drop import DropPath "
   ]
  },
  {
   "cell_type": "code",
   "execution_count": 3,
   "id": "5a67bf47",
   "metadata": {},
   "outputs": [],
   "source": [
    "img = torch.rand(2,3,224,224)"
   ]
  },
  {
   "cell_type": "code",
   "execution_count": 4,
   "id": "2b62b353",
   "metadata": {},
   "outputs": [],
   "source": [
    "patch_conv = nn.Conv2d(in_channels=3, out_channels=768, kernel_size=16, stride=16)"
   ]
  },
  {
   "cell_type": "code",
   "execution_count": 6,
   "id": "971dc69d",
   "metadata": {},
   "outputs": [
    {
     "name": "stdout",
     "output_type": "stream",
     "text": [
      "torch.Size([2, 768, 14, 14])\n"
     ]
    }
   ],
   "source": [
    "x = patch_conv(img)\n",
    "print(x.shape)"
   ]
  },
  {
   "cell_type": "code",
   "execution_count": 8,
   "id": "d7ddf091",
   "metadata": {},
   "outputs": [
    {
     "name": "stdout",
     "output_type": "stream",
     "text": [
      "torch.Size([2, 196, 768])\n"
     ]
    }
   ],
   "source": [
    "x = x.flatten(2).transpose(1,2)\n",
    "print(x.shape)"
   ]
  },
  {
   "cell_type": "code",
   "execution_count": 11,
   "id": "55b44db5",
   "metadata": {},
   "outputs": [],
   "source": [
    "layer_norm = partial(nn.LayerNorm,eps=1e-6)"
   ]
  },
  {
   "cell_type": "code",
   "execution_count": 12,
   "id": "fe5e3451",
   "metadata": {},
   "outputs": [],
   "source": [
    "norm1 = layer_norm(768)"
   ]
  },
  {
   "cell_type": "code",
   "execution_count": 50,
   "id": "11965d19",
   "metadata": {},
   "outputs": [
    {
     "name": "stdout",
     "output_type": "stream",
     "text": [
      "torch.Size([2, 196, 768])\n",
      "2\n"
     ]
    }
   ],
   "source": [
    "x_ = x\n",
    "x = norml(x)\n",
    "print(x.shape)\n",
    "B,N,C = x.shape\n",
    "print(B)"
   ]
  },
  {
   "cell_type": "code",
   "execution_count": 51,
   "id": "9caebcce",
   "metadata": {},
   "outputs": [],
   "source": [
    "qkv_f = torch.nn.Linear(768,768*3,bias=False)"
   ]
  },
  {
   "cell_type": "code",
   "execution_count": 52,
   "id": "de16b920",
   "metadata": {},
   "outputs": [
    {
     "name": "stdout",
     "output_type": "stream",
     "text": [
      "torch.Size([2, 196, 2304])\n"
     ]
    }
   ],
   "source": [
    "qkv = qkv_f(x)\n",
    "print(qkv.shape)"
   ]
  },
  {
   "cell_type": "code",
   "execution_count": 53,
   "id": "cc909be0",
   "metadata": {},
   "outputs": [
    {
     "name": "stdout",
     "output_type": "stream",
     "text": [
      "torch.Size([3, 2, 196, 768])\n"
     ]
    }
   ],
   "source": [
    "qkv = qkv.reshape(B,N,C,-1)\n",
    "\n",
    "qkv = qkv.permute(3,0,1,2)\n",
    "print(qkv.shape)"
   ]
  },
  {
   "cell_type": "code",
   "execution_count": 54,
   "id": "c5b80323",
   "metadata": {},
   "outputs": [
    {
     "name": "stdout",
     "output_type": "stream",
     "text": [
      "torch.Size([2, 196, 768])\n",
      "torch.Size([2, 196, 768])\n",
      "torch.Size([2, 196, 768])\n"
     ]
    }
   ],
   "source": [
    "q, k, v = qkv.unbind(0)\n",
    "print(q.shape)\n",
    "print(k.shape)\n",
    "print(v.shape)"
   ]
  },
  {
   "cell_type": "code",
   "execution_count": 55,
   "id": "66f9b9a1",
   "metadata": {},
   "outputs": [
    {
     "name": "stdout",
     "output_type": "stream",
     "text": [
      "torch.Size([2, 196, 196])\n"
     ]
    }
   ],
   "source": [
    "attn = (q@k.transpose(-2,-1))\n",
    "print(attn.shape)"
   ]
  },
  {
   "cell_type": "code",
   "execution_count": 56,
   "id": "28774d93",
   "metadata": {},
   "outputs": [],
   "source": [
    "attn = attn.softmax(dim=-1)"
   ]
  },
  {
   "cell_type": "code",
   "execution_count": 57,
   "id": "017ca1f3",
   "metadata": {},
   "outputs": [
    {
     "name": "stdout",
     "output_type": "stream",
     "text": [
      "torch.Size([2, 196, 768])\n"
     ]
    }
   ],
   "source": [
    "z = attn@v\n",
    "print(z.shape)"
   ]
  },
  {
   "cell_type": "code",
   "execution_count": 58,
   "id": "6f1eb4e2",
   "metadata": {},
   "outputs": [],
   "source": [
    "drop_path_rate = 0.1  #drop的概率\n",
    "drop_path = DropPath(0.1)"
   ]
  },
  {
   "cell_type": "code",
   "execution_count": 59,
   "id": "f467d616",
   "metadata": {},
   "outputs": [],
   "source": [
    "x = x_ + drop_path(z)"
   ]
  },
  {
   "cell_type": "code",
   "execution_count": 63,
   "id": "d5bd4e85",
   "metadata": {},
   "outputs": [],
   "source": [
    "norm2 = layer_norm(768)\n",
    "x = norm2(x)"
   ]
  },
  {
   "cell_type": "code",
   "execution_count": 64,
   "id": "ebae40b0",
   "metadata": {},
   "outputs": [],
   "source": [
    "mlp_ratio = 4\n",
    "fc1 = torch.nn.Linear(768,768*mlp_ratio)\n",
    "act = nn.GELU()\n",
    "dropout = nn.Dropout(0.1)"
   ]
  },
  {
   "cell_type": "code",
   "execution_count": 65,
   "id": "84149266",
   "metadata": {},
   "outputs": [
    {
     "name": "stdout",
     "output_type": "stream",
     "text": [
      "torch.Size([2, 196, 3072])\n"
     ]
    }
   ],
   "source": [
    "x = fc1(x)\n",
    "x = act(x)\n",
    "x= dropout(x)\n",
    "print(x.shape)"
   ]
  },
  {
   "cell_type": "code",
   "execution_count": 66,
   "id": "275f96e1",
   "metadata": {},
   "outputs": [],
   "source": [
    "fc2 = torch.nn.Linear(768*mlp_ratio,768)\n",
    "x = fc2(x)\n",
    "x = dropout(x)\n",
    "x = x_ + drop_path(x)"
   ]
  },
  {
   "cell_type": "code",
   "execution_count": 67,
   "id": "6c97c73c",
   "metadata": {},
   "outputs": [
    {
     "name": "stdout",
     "output_type": "stream",
     "text": [
      "torch.Size([2, 196, 768])\n"
     ]
    }
   ],
   "source": [
    "print(x.shape)"
   ]
  },
  {
   "cell_type": "code",
   "execution_count": null,
   "id": "9ce1b89b",
   "metadata": {},
   "outputs": [],
   "source": []
  }
 ],
 "metadata": {
  "kernelspec": {
   "display_name": "Python [conda env:.conda-pytorch] *",
   "language": "python",
   "name": "conda-env-.conda-pytorch-py"
  },
  "language_info": {
   "codemirror_mode": {
    "name": "ipython",
    "version": 3
   },
   "file_extension": ".py",
   "mimetype": "text/x-python",
   "name": "python",
   "nbconvert_exporter": "python",
   "pygments_lexer": "ipython3",
   "version": "3.8.12"
  }
 },
 "nbformat": 4,
 "nbformat_minor": 5
}
